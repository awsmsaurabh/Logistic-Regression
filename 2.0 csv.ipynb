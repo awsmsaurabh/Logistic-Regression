{
 "cells": [
  {
   "cell_type": "code",
   "execution_count": 1,
   "metadata": {},
   "outputs": [],
   "source": [
    "#importing required liberary\n",
    "import numpy as np\n",
    "import pandas as pd\n",
    "import matplotlib.pyplot as plt"
   ]
  },
  {
   "cell_type": "code",
   "execution_count": 2,
   "metadata": {},
   "outputs": [],
   "source": [
    "#import datasets\n",
    "data=pd.read_csv(\"data.csv\",names=['x1','x2','y']);"
   ]
  },
  {
   "cell_type": "code",
   "execution_count": 3,
   "metadata": {},
   "outputs": [
    {
     "data": {
      "text/html": [
       "<div>\n",
       "<style scoped>\n",
       "    .dataframe tbody tr th:only-of-type {\n",
       "        vertical-align: middle;\n",
       "    }\n",
       "\n",
       "    .dataframe tbody tr th {\n",
       "        vertical-align: top;\n",
       "    }\n",
       "\n",
       "    .dataframe thead th {\n",
       "        text-align: right;\n",
       "    }\n",
       "</style>\n",
       "<table border=\"1\" class=\"dataframe\">\n",
       "  <thead>\n",
       "    <tr style=\"text-align: right;\">\n",
       "      <th></th>\n",
       "      <th>x1</th>\n",
       "      <th>x2</th>\n",
       "      <th>y</th>\n",
       "    </tr>\n",
       "  </thead>\n",
       "  <tbody>\n",
       "    <tr>\n",
       "      <th>0</th>\n",
       "      <td>5.1</td>\n",
       "      <td>3.5</td>\n",
       "      <td>0</td>\n",
       "    </tr>\n",
       "    <tr>\n",
       "      <th>1</th>\n",
       "      <td>4.9</td>\n",
       "      <td>3.0</td>\n",
       "      <td>0</td>\n",
       "    </tr>\n",
       "    <tr>\n",
       "      <th>2</th>\n",
       "      <td>4.7</td>\n",
       "      <td>3.2</td>\n",
       "      <td>0</td>\n",
       "    </tr>\n",
       "    <tr>\n",
       "      <th>3</th>\n",
       "      <td>4.6</td>\n",
       "      <td>3.1</td>\n",
       "      <td>0</td>\n",
       "    </tr>\n",
       "    <tr>\n",
       "      <th>4</th>\n",
       "      <td>5.0</td>\n",
       "      <td>3.6</td>\n",
       "      <td>0</td>\n",
       "    </tr>\n",
       "  </tbody>\n",
       "</table>\n",
       "</div>"
      ],
      "text/plain": [
       "    x1   x2  y\n",
       "0  5.1  3.5  0\n",
       "1  4.9  3.0  0\n",
       "2  4.7  3.2  0\n",
       "3  4.6  3.1  0\n",
       "4  5.0  3.6  0"
      ]
     },
     "execution_count": 3,
     "metadata": {},
     "output_type": "execute_result"
    }
   ],
   "source": [
    "#reading 5 dataset\n",
    "data.head()"
   ]
  },
  {
   "cell_type": "code",
   "execution_count": 4,
   "metadata": {},
   "outputs": [],
   "source": [
    "data.loc[:, 'y'].replace([0,1], [0.0,1.0], inplace=True)"
   ]
  },
  {
   "cell_type": "code",
   "execution_count": 5,
   "metadata": {},
   "outputs": [
    {
     "data": {
      "text/html": [
       "<div>\n",
       "<style scoped>\n",
       "    .dataframe tbody tr th:only-of-type {\n",
       "        vertical-align: middle;\n",
       "    }\n",
       "\n",
       "    .dataframe tbody tr th {\n",
       "        vertical-align: top;\n",
       "    }\n",
       "\n",
       "    .dataframe thead th {\n",
       "        text-align: right;\n",
       "    }\n",
       "</style>\n",
       "<table border=\"1\" class=\"dataframe\">\n",
       "  <thead>\n",
       "    <tr style=\"text-align: right;\">\n",
       "      <th></th>\n",
       "      <th>x1</th>\n",
       "      <th>x2</th>\n",
       "      <th>y</th>\n",
       "    </tr>\n",
       "  </thead>\n",
       "  <tbody>\n",
       "    <tr>\n",
       "      <th>0</th>\n",
       "      <td>5.1</td>\n",
       "      <td>3.5</td>\n",
       "      <td>0.0</td>\n",
       "    </tr>\n",
       "    <tr>\n",
       "      <th>1</th>\n",
       "      <td>4.9</td>\n",
       "      <td>3.0</td>\n",
       "      <td>0.0</td>\n",
       "    </tr>\n",
       "    <tr>\n",
       "      <th>2</th>\n",
       "      <td>4.7</td>\n",
       "      <td>3.2</td>\n",
       "      <td>0.0</td>\n",
       "    </tr>\n",
       "    <tr>\n",
       "      <th>3</th>\n",
       "      <td>4.6</td>\n",
       "      <td>3.1</td>\n",
       "      <td>0.0</td>\n",
       "    </tr>\n",
       "    <tr>\n",
       "      <th>4</th>\n",
       "      <td>5.0</td>\n",
       "      <td>3.6</td>\n",
       "      <td>0.0</td>\n",
       "    </tr>\n",
       "  </tbody>\n",
       "</table>\n",
       "</div>"
      ],
      "text/plain": [
       "    x1   x2    y\n",
       "0  5.1  3.5  0.0\n",
       "1  4.9  3.0  0.0\n",
       "2  4.7  3.2  0.0\n",
       "3  4.6  3.1  0.0\n",
       "4  5.0  3.6  0.0"
      ]
     },
     "execution_count": 5,
     "metadata": {},
     "output_type": "execute_result"
    }
   ],
   "source": [
    "data.head()"
   ]
  },
  {
   "cell_type": "code",
   "execution_count": 6,
   "metadata": {},
   "outputs": [
    {
     "data": {
      "text/plain": [
       "50"
      ]
     },
     "execution_count": 6,
     "metadata": {},
     "output_type": "execute_result"
    }
   ],
   "source": [
    "#no of 0 in y\n",
    "np.sum(data['y']==0)"
   ]
  },
  {
   "cell_type": "code",
   "execution_count": 7,
   "metadata": {},
   "outputs": [
    {
     "data": {
      "text/plain": [
       "50"
      ]
     },
     "execution_count": 7,
     "metadata": {},
     "output_type": "execute_result"
    }
   ],
   "source": [
    "#no of 1 in y\n",
    "np.sum(data['y']==1)"
   ]
  },
  {
   "cell_type": "code",
   "execution_count": 8,
   "metadata": {},
   "outputs": [
    {
     "data": {
      "text/plain": [
       "100"
      ]
     },
     "execution_count": 8,
     "metadata": {},
     "output_type": "execute_result"
    }
   ],
   "source": [
    "#viewing size of dataset\n",
    "data['x1'].size"
   ]
  },
  {
   "cell_type": "code",
   "execution_count": 9,
   "metadata": {},
   "outputs": [],
   "source": [
    "#normalizing\n",
    "data['x1']=((data['x1']-data['x1'].min())/(data['x1'].max()-data['x1'].min()))\n",
    "data['x2']=((data['x2']-data['x2'].min())/(data['x2'].max()-data['x2'].min()))"
   ]
  },
  {
   "cell_type": "code",
   "execution_count": 10,
   "metadata": {},
   "outputs": [
    {
     "data": {
      "text/html": [
       "<div>\n",
       "<style scoped>\n",
       "    .dataframe tbody tr th:only-of-type {\n",
       "        vertical-align: middle;\n",
       "    }\n",
       "\n",
       "    .dataframe tbody tr th {\n",
       "        vertical-align: top;\n",
       "    }\n",
       "\n",
       "    .dataframe thead th {\n",
       "        text-align: right;\n",
       "    }\n",
       "</style>\n",
       "<table border=\"1\" class=\"dataframe\">\n",
       "  <thead>\n",
       "    <tr style=\"text-align: right;\">\n",
       "      <th></th>\n",
       "      <th>x1</th>\n",
       "      <th>x2</th>\n",
       "      <th>y</th>\n",
       "    </tr>\n",
       "  </thead>\n",
       "  <tbody>\n",
       "    <tr>\n",
       "      <th>0</th>\n",
       "      <td>0.296296</td>\n",
       "      <td>0.625000</td>\n",
       "      <td>0.0</td>\n",
       "    </tr>\n",
       "    <tr>\n",
       "      <th>1</th>\n",
       "      <td>0.222222</td>\n",
       "      <td>0.416667</td>\n",
       "      <td>0.0</td>\n",
       "    </tr>\n",
       "    <tr>\n",
       "      <th>2</th>\n",
       "      <td>0.148148</td>\n",
       "      <td>0.500000</td>\n",
       "      <td>0.0</td>\n",
       "    </tr>\n",
       "    <tr>\n",
       "      <th>3</th>\n",
       "      <td>0.111111</td>\n",
       "      <td>0.458333</td>\n",
       "      <td>0.0</td>\n",
       "    </tr>\n",
       "    <tr>\n",
       "      <th>4</th>\n",
       "      <td>0.259259</td>\n",
       "      <td>0.666667</td>\n",
       "      <td>0.0</td>\n",
       "    </tr>\n",
       "  </tbody>\n",
       "</table>\n",
       "</div>"
      ],
      "text/plain": [
       "         x1        x2    y\n",
       "0  0.296296  0.625000  0.0\n",
       "1  0.222222  0.416667  0.0\n",
       "2  0.148148  0.500000  0.0\n",
       "3  0.111111  0.458333  0.0\n",
       "4  0.259259  0.666667  0.0"
      ]
     },
     "execution_count": 10,
     "metadata": {},
     "output_type": "execute_result"
    }
   ],
   "source": [
    "data.head()"
   ]
  },
  {
   "cell_type": "code",
   "execution_count": 11,
   "metadata": {},
   "outputs": [],
   "source": [
    "i=35\n",
    "j=35\n",
    "k=0\n",
    "tr=0\n",
    "te=0\n",
    "x1=np.zeros(70)\n",
    "x2=np.zeros(70)\n",
    "y=np.zeros(70)\n",
    "x1_test=np.zeros(30)\n",
    "x2_test=np.zeros(30)\n",
    "y_test=np.zeros(30)\n",
    "for k in range(100):\n",
    "    if data.loc[k,'y']==0.0 and i>0:\n",
    "        x1[tr]=data.loc[k,'x1']\n",
    "        x2[tr]=data.loc[k,'x2']\n",
    "        y[tr]=data.loc[k,'y']\n",
    "        i=i-1\n",
    "        tr=tr+1\n",
    "    elif data.loc[k,'y']==1.0 and j>0:\n",
    "        x1[tr]=data.loc[k,'x1']\n",
    "        x2[tr]=data.loc[k,'x2']\n",
    "        y[tr]=data.loc[k,'y']\n",
    "        j=j-1\n",
    "        tr=tr+1\n",
    "    else:\n",
    "        x1_test[te]=data.loc[k,'x1']\n",
    "        x2_test[te]=data.loc[k,'x2']\n",
    "        y_test[te]=data.loc[k,'y']\n",
    "        te=te+1"
   ]
  },
  {
   "cell_type": "code",
   "execution_count": 12,
   "metadata": {},
   "outputs": [
    {
     "data": {
      "image/png": "[encoded data removed]",
      "text/plain": [
       "<Figure size 720x432 with 1 Axes>"
      ]
     },
     "metadata": {},
     "output_type": "display_data"
    }
   ],
   "source": [
    "plt.figure(figsize=(10, 6))\n",
    "plt.scatter(x1[y == 0], x2[y == 0.0], color='b', label='0')\n",
    "plt.scatter(x1[y == 1], x2[y == 1.0], color='r', label='1')\n",
    "plt.legend();\n",
    "plt.show()"
   ]
  },
  {
   "cell_type": "code",
   "execution_count": 13,
   "metadata": {},
   "outputs": [
    {
     "data": {
      "image/png": "[encoded data removed]",
      "text/plain": [
       "<Figure size 720x432 with 1 Axes>"
      ]
     },
     "metadata": {},
     "output_type": "display_data"
    }
   ],
   "source": [
    "plt.figure(figsize=(10, 6))\n",
    "plt.scatter(x1_test[y_test == 0], x2_test[y_test == 0.0], color='b', label='0')\n",
    "plt.scatter(x1_test[y_test == 1], x2_test[y_test == 1.0], color='r', label='1')\n",
    "plt.legend();\n",
    "plt.show()"
   ]
  },
  {
   "cell_type": "code",
   "execution_count": 14,
   "metadata": {},
   "outputs": [],
   "source": [
    "#Taking 70% of data as training set\n",
    "#k=(int)(0.7*data['x1'].size)\n",
    "#x1=np.array(data.loc[:k-1,'x1'])\n",
    "#x2=np.array(data.loc[:k-1,'x2'])\n",
    "#y=np.array(data.loc[:k-1,'y'])"
   ]
  },
  {
   "cell_type": "code",
   "execution_count": 15,
   "metadata": {},
   "outputs": [
    {
     "data": {
      "text/plain": [
       "70"
      ]
     },
     "execution_count": 15,
     "metadata": {},
     "output_type": "execute_result"
    }
   ],
   "source": [
    "#checking Size of training set\n",
    "len(x1)"
   ]
  },
  {
   "cell_type": "code",
   "execution_count": 16,
   "metadata": {},
   "outputs": [],
   "source": [
    "#Taking rest 30% as test data\n",
    "#x1_test=np.array(data.loc[k:,'x1'])\n",
    "#x2_test=np.array(data.loc[k:,'x2'])\n",
    "#y_test=np.array(data.loc[k:,'y'])"
   ]
  },
  {
   "cell_type": "code",
   "execution_count": 17,
   "metadata": {},
   "outputs": [],
   "source": [
    "#linear regression model\n",
    "x1x1=x1*x1\n",
    "x1x1_mean=x1x1.mean()"
   ]
  },
  {
   "cell_type": "code",
   "execution_count": 18,
   "metadata": {},
   "outputs": [],
   "source": [
    "x1x2=x1*x2\n",
    "x1x2_mean=x1x2.mean()"
   ]
  },
  {
   "cell_type": "code",
   "execution_count": 19,
   "metadata": {},
   "outputs": [],
   "source": [
    "x1_mean=x1.mean()"
   ]
  },
  {
   "cell_type": "code",
   "execution_count": 20,
   "metadata": {},
   "outputs": [],
   "source": [
    "x1y=x1*y\n",
    "x1y_mean=x1y.mean()"
   ]
  },
  {
   "cell_type": "code",
   "execution_count": 21,
   "metadata": {},
   "outputs": [],
   "source": [
    "x2x2=x2*x2\n",
    "x2x2_mean=x2x2.mean()"
   ]
  },
  {
   "cell_type": "code",
   "execution_count": 22,
   "metadata": {},
   "outputs": [],
   "source": [
    "x2_mean=x2.mean()"
   ]
  },
  {
   "cell_type": "code",
   "execution_count": 23,
   "metadata": {},
   "outputs": [],
   "source": [
    "x2y=x2*y\n",
    "x2y_mean=x2y.mean()"
   ]
  },
  {
   "cell_type": "code",
   "execution_count": 24,
   "metadata": {},
   "outputs": [],
   "source": [
    "y_mean=y.mean()"
   ]
  },
  {
   "cell_type": "code",
   "execution_count": 25,
   "metadata": {},
   "outputs": [
    {
     "name": "stdout",
     "output_type": "stream",
     "text": [
      "[[0.26609837 0.20068342 0.45449735 0.31640212]\n",
      " [0.20068342 0.25895337 0.46607143 0.16011905]\n",
      " [0.45449735 0.46607143 1.         0.5       ]]\n"
     ]
    }
   ],
   "source": [
    "#creating augmented matrix\n",
    "M=np.array([[x1x1_mean, x1x2_mean, x1_mean,  x1y_mean],\n",
    "            [x1x2_mean, x2x2_mean, x2_mean,  x2y_mean],\n",
    "            [x1_mean,   x2_mean,   1.0,      y_mean]])\n",
    "print(M)"
   ]
  },
  {
   "cell_type": "code",
   "execution_count": 26,
   "metadata": {},
   "outputs": [
    {
     "name": "stdout",
     "output_type": "stream",
     "text": [
      "[[ 0.26609837  0.20068342  0.45449735  0.31640212]\n",
      " [ 0.20068342  0.25895337  0.46607143  0.16011905]\n",
      " [ 0.          0.12330314  0.22371624 -0.0404164 ]]\n"
     ]
    }
   ],
   "source": [
    "#performing row operation R2->R2-(M20/M00)R0\n",
    "M[2,:]=M[2,:]-(M[2,0]/M[0,0])*M[0,:]\n",
    "print(M)"
   ]
  },
  {
   "cell_type": "code",
   "execution_count": 27,
   "metadata": {},
   "outputs": [
    {
     "name": "stdout",
     "output_type": "stream",
     "text": [
      "[[ 0.26609837  0.20068342  0.45449735  0.31640212]\n",
      " [ 0.          0.10760395  0.12330314 -0.07850195]\n",
      " [ 0.          0.12330314  0.22371624 -0.0404164 ]]\n"
     ]
    }
   ],
   "source": [
    "#performing row operation R1->R1-(M10/M00)R0\n",
    "M[1,:]=M[1,:]-(M[1,0]/M[0,0])*M[0,:]\n",
    "print(M)"
   ]
  },
  {
   "cell_type": "code",
   "execution_count": 28,
   "metadata": {},
   "outputs": [
    {
     "name": "stdout",
     "output_type": "stream",
     "text": [
      "[[ 0.26609837  0.20068342  0.45449735  0.31640212]\n",
      " [ 0.          0.10760395  0.12330314 -0.07850195]\n",
      " [ 0.          0.          0.08242343  0.04953882]]\n"
     ]
    }
   ],
   "source": [
    "#performing row operation R2->R2-(M21/M11)R1\n",
    "M[2,:]=M[2,:]-(M[2,1]/M[1,1])*M[1,:]\n",
    "print(M)"
   ]
  },
  {
   "cell_type": "code",
   "execution_count": 29,
   "metadata": {},
   "outputs": [
    {
     "name": "stdout",
     "output_type": "stream",
     "text": [
      "0.6010283632161083\n"
     ]
    }
   ],
   "source": [
    "#Calculating constant k=M23/M22\n",
    "k=M[2,3]/M[2,2]\n",
    "print(k)"
   ]
  },
  {
   "cell_type": "code",
   "execution_count": 30,
   "metadata": {},
   "outputs": [
    {
     "name": "stdout",
     "output_type": "stream",
     "text": [
      "-1.4182623964865222\n"
     ]
    }
   ],
   "source": [
    "#calculating cofficient w2=(M13-k*M12)/M11\n",
    "w2=(M[1,3]-k*M[1,2])/M[1,1]\n",
    "print(w2)"
   ]
  },
  {
   "cell_type": "code",
   "execution_count": 31,
   "metadata": {},
   "outputs": [
    {
     "name": "stdout",
     "output_type": "stream",
     "text": [
      "0.35945367333176614\n"
     ]
    }
   ],
   "source": [
    "#calculating cofficient w1=(M03-(w2*M01+k*M02))/M00\n",
    "w1=(M[0,3]-(w2*M[0,1]+k*M[0,2])/M[0,0])\n",
    "print(w1)"
   ]
  },
  {
   "cell_type": "code",
   "execution_count": 32,
   "metadata": {},
   "outputs": [],
   "source": [
    "m=0.0\n",
    "m=len(x1)#size of train data\n",
    "alpha=0.1#learning rate"
   ]
  },
  {
   "cell_type": "code",
   "execution_count": 33,
   "metadata": {},
   "outputs": [],
   "source": [
    "for j in range(300000):\n",
    "    Ew1=0.0\n",
    "    Ew2=0.0\n",
    "    Ek=0.0\n",
    "    for i in range(m):\n",
    "        s=w1*x1[i]+w2*x2[i]+k\n",
    "        Ew1=Ew1+(x1[i]*(1/(1+np.exp(-1*s))-y[i]))\n",
    "        Ew2=Ew2+(x2[i]*(1/(1+np.exp(-1*s))-y[i]))\n",
    "        Ek=Ek+(1/(1+np.exp(-1*s))-y[i])\n",
    "    Ew1=Ew1/m\n",
    "    Ew2=Ew2/m\n",
    "    Ek=Ek/m\n",
    "    w1=w1-alpha*Ew1\n",
    "    w2=w2-alpha*Ew2\n",
    "    k=k-alpha*Ek"
   ]
  },
  {
   "cell_type": "code",
   "execution_count": 34,
   "metadata": {},
   "outputs": [
    {
     "name": "stdout",
     "output_type": "stream",
     "text": [
      "0.9666666666666667\n"
     ]
    }
   ],
   "source": [
    "c=0\n",
    "for i in range(len(x1_test)):\n",
    "    s=w1*x1_test[i]+w2*x2_test[i]+k\n",
    "    p=1/(1+np.exp(-1*s))\n",
    "    if p.round()==y_test[i]:\n",
    "        c+=1\n",
    "print(c/len(x1_test))"
   ]
  },
  {
   "cell_type": "code",
   "execution_count": 35,
   "metadata": {},
   "outputs": [
    {
     "name": "stdout",
     "output_type": "stream",
     "text": [
      "1.0\n"
     ]
    }
   ],
   "source": [
    "c=0\n",
    "for i in range(len(x1)):\n",
    "    s=w1*x1[i]+w2*x2[i]+k\n",
    "    p=1/(1+np.exp(-1*s))\n",
    "    if p.round()==y[i]:\n",
    "        c+=1\n",
    "print(c/len(x1))"
   ]
  },
  {
   "cell_type": "code",
   "execution_count": null,
   "metadata": {},
   "outputs": [],
   "source": []
  }
 ],
 "metadata": {
  "kernelspec": {
   "display_name": "Python 3",
   "language": "python",
   "name": "python3"
  },
  "language_info": {
   "codemirror_mode": {
    "name": "ipython",
    "version": 3
   },
   "file_extension": ".py",
   "mimetype": "text/x-python",
   "name": "python",
   "nbconvert_exporter": "python",
   "pygments_lexer": "ipython3",
   "version": "3.6.5"
  }
 },
 "nbformat": 4,
 "nbformat_minor": 2
}
